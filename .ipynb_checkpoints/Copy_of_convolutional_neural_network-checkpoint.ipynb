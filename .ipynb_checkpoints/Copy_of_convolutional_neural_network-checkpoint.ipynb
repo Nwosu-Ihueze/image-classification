{
 "cells": [
  {
   "cell_type": "raw",
   "metadata": {
    "id": "3DR-eO17geWu"
   },
   "source": [
    "# Convolutional Neural Network"
   ]
  },
  {
   "cell_type": "markdown",
   "metadata": {
    "id": "EMefrVPCg-60"
   },
   "source": [
    "### Importing the libraries"
   ]
  },
  {
   "cell_type": "code",
   "execution_count": 1,
   "metadata": {
    "id": "ge2sFEhm9wOR"
   },
   "outputs": [],
   "source": [
    "import tensorflow as tf\n",
    "from keras.preprocessing.image import ImageDataGenerator"
   ]
  },
  {
   "cell_type": "raw",
   "metadata": {
    "id": "oxQxCBWyoGPE"
   },
   "source": [
    "## Part 1 - Data Preprocessing"
   ]
  },
  {
   "cell_type": "raw",
   "metadata": {
    "id": "MvE-heJNo3GG"
   },
   "source": [
    "### Preprocessing the Training set"
   ]
  },
  {
   "cell_type": "code",
   "execution_count": 2,
   "metadata": {
    "id": "9dy7thx9-Vs6"
   },
   "outputs": [
    {
     "name": "stdout",
     "output_type": "stream",
     "text": [
      "Found 8000 images belonging to 2 classes.\n"
     ]
    }
   ],
   "source": [
    "train_datagen = ImageDataGenerator(\n",
    "    rescale = 1./255,\n",
    "    shear_range = 0.2,\n",
    "    zoom_range = 0.2,\n",
    "    horizontal_flip = True\n",
    ")\n",
    "training_set = train_datagen.flow_from_directory(\n",
    "    'dataset/training_set',\n",
    "    target_size = (64, 64),\n",
    "    batch_size = 32,\n",
    "    class_mode = 'binary'\n",
    ")"
   ]
  },
  {
   "cell_type": "markdown",
   "metadata": {
    "id": "mrCMmGw9pHys"
   },
   "source": [
    "### Preprocessing the Test set"
   ]
  },
  {
   "cell_type": "code",
   "execution_count": 3,
   "metadata": {
    "id": "8s-JEIT2B78s"
   },
   "outputs": [
    {
     "name": "stdout",
     "output_type": "stream",
     "text": [
      "Found 2000 images belonging to 2 classes.\n"
     ]
    }
   ],
   "source": [
    "test_datagen = ImageDataGenerator(rescale=1./255)\n",
    "test_set = test_datagen.flow_from_directory(\n",
    "    'dataset/test_set',\n",
    "    target_size = (64, 64),\n",
    "    batch_size = 32,\n",
    "    class_mode = 'binary'\n",
    ")"
   ]
  },
  {
   "cell_type": "markdown",
   "metadata": {
    "id": "af8O4l90gk7B"
   },
   "source": [
    "## Part 2 - Building the CNN"
   ]
  },
  {
   "cell_type": "markdown",
   "metadata": {
    "id": "ces1gXY2lmoX"
   },
   "source": [
    "### Initialising the CNN"
   ]
  },
  {
   "cell_type": "code",
   "execution_count": 5,
   "metadata": {
    "id": "MRtB-03sDQmP"
   },
   "outputs": [],
   "source": [
    "cnn = tf.keras.models.Sequential()"
   ]
  },
  {
   "cell_type": "markdown",
   "metadata": {
    "id": "u5YJj_XMl5LF"
   },
   "source": [
    "### Step 1 - Convolution"
   ]
  },
  {
   "cell_type": "code",
   "execution_count": 6,
   "metadata": {
    "id": "QfI6fwQQDiDO"
   },
   "outputs": [],
   "source": [
    "cnn.add(tf.keras.layers.Conv2D(filters=32, kernel_size=3, activation='relu', input_shape= [64, 64, 3]))"
   ]
  },
  {
   "cell_type": "markdown",
   "metadata": {
    "id": "tf87FpvxmNOJ"
   },
   "source": [
    "### Step 2 - Pooling"
   ]
  },
  {
   "cell_type": "code",
   "execution_count": 7,
   "metadata": {
    "id": "f0ndWeWFEyf0"
   },
   "outputs": [],
   "source": [
    "cnn.add(tf.keras.layers.MaxPool2D(pool_size=2, strides=2))"
   ]
  },
  {
   "cell_type": "markdown",
   "metadata": {
    "id": "xaTOgD8rm4mU"
   },
   "source": [
    "### Adding a second convolutional layer"
   ]
  },
  {
   "cell_type": "code",
   "execution_count": 8,
   "metadata": {
    "id": "bNcHCu2_Fyeg"
   },
   "outputs": [],
   "source": [
    "cnn.add(tf.keras.layers.Conv2D(filters=32, kernel_size=3, activation='relu'))\n",
    "cnn.add(tf.keras.layers.MaxPool2D(pool_size=2, strides=2))"
   ]
  },
  {
   "cell_type": "markdown",
   "metadata": {
    "id": "tmiEuvTunKfk"
   },
   "source": [
    "### Step 3 - Flattening"
   ]
  },
  {
   "cell_type": "code",
   "execution_count": 9,
   "metadata": {
    "id": "idsfmWg5GZdd"
   },
   "outputs": [],
   "source": [
    "cnn.add(tf.keras.layers.Flatten())"
   ]
  },
  {
   "cell_type": "markdown",
   "metadata": {
    "id": "dAoSECOm203v"
   },
   "source": [
    "### Step 4 - Full Connection"
   ]
  },
  {
   "cell_type": "code",
   "execution_count": 10,
   "metadata": {
    "id": "mpyl_qMbGwvR"
   },
   "outputs": [],
   "source": [
    "cnn.add(tf.keras.layers.Dense(units=128, activation='relu'))"
   ]
  },
  {
   "cell_type": "markdown",
   "metadata": {
    "id": "yTldFvbX28Na"
   },
   "source": [
    "### Step 5 - Output Layer"
   ]
  },
  {
   "cell_type": "code",
   "execution_count": 11,
   "metadata": {
    "id": "azQyh3vHHN0-"
   },
   "outputs": [],
   "source": [
    "cnn.add(tf.keras.layers.Dense(units=1, activation='sigmoid'))"
   ]
  },
  {
   "cell_type": "markdown",
   "metadata": {
    "id": "D6XkI90snSDl"
   },
   "source": [
    "## Part 3 - Training the CNN"
   ]
  },
  {
   "cell_type": "markdown",
   "metadata": {
    "id": "vfrFQACEnc6i"
   },
   "source": [
    "### Compiling the CNN"
   ]
  },
  {
   "cell_type": "code",
   "execution_count": 12,
   "metadata": {
    "id": "6nSVlePuHxXp"
   },
   "outputs": [],
   "source": [
    "cnn.compile(optimizer = 'adam', loss = 'binary_crossentropy', metrics = [ 'accuracy'])"
   ]
  },
  {
   "cell_type": "markdown",
   "metadata": {
    "id": "ehS-v3MIpX2h"
   },
   "source": [
    "### Training the CNN on the Training set and evaluating it on the Test set"
   ]
  },
  {
   "cell_type": "code",
   "execution_count": 13,
   "metadata": {
    "id": "NZd6fHr6IXGE"
   },
   "outputs": [
    {
     "name": "stdout",
     "output_type": "stream",
     "text": [
      "Epoch 1/25\n",
      "250/250 [==============================] - 63s 251ms/step - loss: 0.6757 - accuracy: 0.5816 - val_loss: 0.6494 - val_accuracy: 0.6350\n",
      "Epoch 2/25\n",
      "250/250 [==============================] - 60s 238ms/step - loss: 0.6153 - accuracy: 0.6579 - val_loss: 0.5750 - val_accuracy: 0.7100\n",
      "Epoch 3/25\n",
      "250/250 [==============================] - 61s 243ms/step - loss: 0.5614 - accuracy: 0.7059 - val_loss: 0.5231 - val_accuracy: 0.7500\n",
      "Epoch 4/25\n",
      "250/250 [==============================] - 58s 233ms/step - loss: 0.5267 - accuracy: 0.7311 - val_loss: 0.5458 - val_accuracy: 0.7350\n",
      "Epoch 5/25\n",
      "250/250 [==============================] - 54s 214ms/step - loss: 0.4970 - accuracy: 0.7571 - val_loss: 0.4708 - val_accuracy: 0.7805\n",
      "Epoch 6/25\n",
      "250/250 [==============================] - 55s 220ms/step - loss: 0.4648 - accuracy: 0.7729 - val_loss: 0.4589 - val_accuracy: 0.7805\n",
      "Epoch 7/25\n",
      "250/250 [==============================] - 54s 215ms/step - loss: 0.4541 - accuracy: 0.7816 - val_loss: 0.4804 - val_accuracy: 0.7680\n",
      "Epoch 8/25\n",
      "250/250 [==============================] - 54s 216ms/step - loss: 0.4389 - accuracy: 0.7943 - val_loss: 0.4368 - val_accuracy: 0.8035\n",
      "Epoch 9/25\n",
      "250/250 [==============================] - 54s 217ms/step - loss: 0.4230 - accuracy: 0.8016 - val_loss: 0.4592 - val_accuracy: 0.7875\n",
      "Epoch 10/25\n",
      "250/250 [==============================] - 53s 211ms/step - loss: 0.4183 - accuracy: 0.8073 - val_loss: 0.4478 - val_accuracy: 0.7970\n",
      "Epoch 11/25\n",
      "250/250 [==============================] - 53s 211ms/step - loss: 0.4024 - accuracy: 0.8127 - val_loss: 0.4692 - val_accuracy: 0.7760\n",
      "Epoch 12/25\n",
      "250/250 [==============================] - 55s 221ms/step - loss: 0.3838 - accuracy: 0.8282 - val_loss: 0.4703 - val_accuracy: 0.7945\n",
      "Epoch 13/25\n",
      "250/250 [==============================] - 64s 255ms/step - loss: 0.3808 - accuracy: 0.8250 - val_loss: 0.4347 - val_accuracy: 0.8010\n",
      "Epoch 14/25\n",
      "250/250 [==============================] - 66s 266ms/step - loss: 0.3602 - accuracy: 0.8367 - val_loss: 0.4675 - val_accuracy: 0.7970\n",
      "Epoch 15/25\n",
      "250/250 [==============================] - 55s 221ms/step - loss: 0.3631 - accuracy: 0.8370 - val_loss: 0.4427 - val_accuracy: 0.8165\n",
      "Epoch 16/25\n",
      "250/250 [==============================] - 55s 221ms/step - loss: 0.3409 - accuracy: 0.8460 - val_loss: 0.4583 - val_accuracy: 0.8110\n",
      "Epoch 17/25\n",
      "250/250 [==============================] - 55s 220ms/step - loss: 0.3348 - accuracy: 0.8508 - val_loss: 0.4320 - val_accuracy: 0.8170\n",
      "Epoch 18/25\n",
      "250/250 [==============================] - 55s 219ms/step - loss: 0.3203 - accuracy: 0.8615 - val_loss: 0.4574 - val_accuracy: 0.8115\n",
      "Epoch 19/25\n",
      "250/250 [==============================] - 54s 218ms/step - loss: 0.3174 - accuracy: 0.8655 - val_loss: 0.4421 - val_accuracy: 0.8075\n",
      "Epoch 20/25\n",
      "250/250 [==============================] - 55s 218ms/step - loss: 0.3031 - accuracy: 0.8710 - val_loss: 0.4568 - val_accuracy: 0.8045\n",
      "Epoch 21/25\n",
      "250/250 [==============================] - 55s 222ms/step - loss: 0.2899 - accuracy: 0.8680 - val_loss: 0.4727 - val_accuracy: 0.8150\n",
      "Epoch 22/25\n",
      "250/250 [==============================] - 55s 218ms/step - loss: 0.2706 - accuracy: 0.8889 - val_loss: 0.5062 - val_accuracy: 0.8055\n",
      "Epoch 23/25\n",
      "250/250 [==============================] - 55s 219ms/step - loss: 0.2564 - accuracy: 0.8930 - val_loss: 0.5568 - val_accuracy: 0.7965\n",
      "Epoch 24/25\n",
      "250/250 [==============================] - 55s 220ms/step - loss: 0.2541 - accuracy: 0.8936 - val_loss: 0.5060 - val_accuracy: 0.8220\n",
      "Epoch 25/25\n",
      "250/250 [==============================] - 54s 214ms/step - loss: 0.2422 - accuracy: 0.9005 - val_loss: 0.5095 - val_accuracy: 0.8245\n"
     ]
    },
    {
     "data": {
      "text/plain": [
       "<tensorflow.python.keras.callbacks.History at 0x7fb48ff60f10>"
      ]
     },
     "execution_count": 13,
     "metadata": {},
     "output_type": "execute_result"
    }
   ],
   "source": [
    "cnn.fit(x = training_set, validation_data = test_set, epochs = 25)"
   ]
  },
  {
   "cell_type": "markdown",
   "metadata": {
    "id": "U3PZasO0006Z"
   },
   "source": [
    "## Part 4 - Making a single prediction"
   ]
  },
  {
   "cell_type": "code",
   "execution_count": 15,
   "metadata": {
    "id": "Vtd8dDZ3Jc7S"
   },
   "outputs": [
    {
     "ename": "NameError",
     "evalue": "name 'target_size' is not defined",
     "output_type": "error",
     "traceback": [
      "\u001b[0;31m---------------------------------------------------------------------------\u001b[0m",
      "\u001b[0;31mNameError\u001b[0m                                 Traceback (most recent call last)",
      "\u001b[0;32m<ipython-input-15-2bb0e00d641d>\u001b[0m in \u001b[0;36m<module>\u001b[0;34m\u001b[0m\n\u001b[1;32m      1\u001b[0m \u001b[0;32mimport\u001b[0m \u001b[0mnumpy\u001b[0m \u001b[0;32mas\u001b[0m \u001b[0mnp\u001b[0m\u001b[0;34m\u001b[0m\u001b[0;34m\u001b[0m\u001b[0m\n\u001b[1;32m      2\u001b[0m \u001b[0;32mfrom\u001b[0m \u001b[0mkeras\u001b[0m\u001b[0;34m.\u001b[0m\u001b[0mpreprocessing\u001b[0m \u001b[0;32mimport\u001b[0m \u001b[0mimage\u001b[0m\u001b[0;34m\u001b[0m\u001b[0;34m\u001b[0m\u001b[0m\n\u001b[0;32m----> 3\u001b[0;31m \u001b[0mtest_image\u001b[0m \u001b[0;34m=\u001b[0m \u001b[0mimage\u001b[0m\u001b[0;34m.\u001b[0m\u001b[0mload_img\u001b[0m\u001b[0;34m(\u001b[0m\u001b[0;34m'dataset/single_prediction/cat_or_dog_1.jpg'\u001b[0m\u001b[0;34m,\u001b[0m \u001b[0mtarget_size\u001b[0m \u001b[0;34m(\u001b[0m\u001b[0;36m64\u001b[0m\u001b[0;34m,\u001b[0m \u001b[0;36m64\u001b[0m\u001b[0;34m)\u001b[0m\u001b[0;34m)\u001b[0m\u001b[0;34m\u001b[0m\u001b[0;34m\u001b[0m\u001b[0m\n\u001b[0m\u001b[1;32m      4\u001b[0m \u001b[0mtest_image\u001b[0m \u001b[0;34m=\u001b[0m \u001b[0mimage\u001b[0m\u001b[0;34m.\u001b[0m\u001b[0mimg_to_array\u001b[0m\u001b[0;34m(\u001b[0m\u001b[0mtest_image\u001b[0m\u001b[0;34m)\u001b[0m\u001b[0;34m\u001b[0m\u001b[0;34m\u001b[0m\u001b[0m\n\u001b[1;32m      5\u001b[0m \u001b[0mtest_image\u001b[0m \u001b[0;34m=\u001b[0m \u001b[0mnp\u001b[0m\u001b[0;34m.\u001b[0m\u001b[0mexpand_dims\u001b[0m\u001b[0;34m(\u001b[0m\u001b[0mtest_image\u001b[0m\u001b[0;34m,\u001b[0m \u001b[0maxis\u001b[0m \u001b[0;34m=\u001b[0m \u001b[0;36m0\u001b[0m\u001b[0;34m)\u001b[0m\u001b[0;34m\u001b[0m\u001b[0;34m\u001b[0m\u001b[0m\n",
      "\u001b[0;31mNameError\u001b[0m: name 'target_size' is not defined"
     ]
    }
   ],
   "source": [
    "import numpy as np\n",
    "from keras.preprocessing import image\n",
    "test_image = image.load_img('dataset/single_prediction/cat_or_dog_1.jpg', target_size= (64, 64))\n",
    "test_image = image.img_to_array(test_image)\n",
    "test_image = np.expand_dims(test_image, axis = 0)\n",
    "result = cnn.predict(test_image)\n",
    "training_set.class_indices\n",
    "if result[0][0] == 1:\n",
    "  prediction = 'dog'\n",
    "else:\n",
    "  prediction = 'cat'"
   ]
  },
  {
   "cell_type": "code",
   "execution_count": null,
   "metadata": {
    "id": "rDPs4jeCMz2_"
   },
   "outputs": [],
   "source": [
    "print(prediction)"
   ]
  }
 ],
 "metadata": {
  "colab": {
   "collapsed_sections": [],
   "name": "Copy of convolutional_neural_network.ipynb",
   "provenance": [],
   "toc_visible": true
  },
  "kernelspec": {
   "display_name": "Python 3",
   "language": "python",
   "name": "python3"
  },
  "language_info": {
   "codemirror_mode": {
    "name": "ipython",
    "version": 3
   },
   "file_extension": ".py",
   "mimetype": "text/x-python",
   "name": "python",
   "nbconvert_exporter": "python",
   "pygments_lexer": "ipython3",
   "version": "3.8.3"
  }
 },
 "nbformat": 4,
 "nbformat_minor": 1
}
